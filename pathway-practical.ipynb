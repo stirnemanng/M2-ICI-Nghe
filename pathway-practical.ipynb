{
 "cells": [
  {
   "cell_type": "code",
   "execution_count": 2,
   "metadata": {},
   "outputs": [],
   "source": [
    "###############################################################################\n",
    "#                          Libraries to use  \n",
    "###############################################################################\n",
    "import matplotlib\n",
    "import numpy as np\n",
    "import matplotlib.pyplot as plt\n",
    "import matplotlib.patheffects as path_effects\n",
    "from scipy.integrate import odeint\n",
    "from scipy.optimize import minimize\n",
    "from scipy.optimize import curve_fit\n",
    "from scipy.integrate import odeint "
   ]
  },
  {
   "cell_type": "code",
   "execution_count": 3,
   "metadata": {},
   "outputs": [],
   "source": [
    "## write here the rate of the Reversible Michaelis-Menten \n",
    "def RMM(c1,c2,E,kcat,kplus,kminus):\n",
    "    v=?##\n",
    "    return v"
   ]
  },
  {
   "cell_type": "code",
   "execution_count": 4,
   "metadata": {},
   "outputs": [
    {
     "data": {
      "text/plain": [
       "0.25"
      ]
     },
     "metadata": {},
     "output_type": "display_data"
    }
   ],
   "source": [
    "#test RMM for an artbitrary set of values\n",
    "display(RMM(2,1,1,1,1,1))"
   ]
  },
  {
   "cell_type": "code",
   "execution_count": 5,
   "metadata": {},
   "outputs": [],
   "source": [
    "#define the function computing dy/dt where y is the intermediate of the pathway\n",
    "\n",
    "def dydt(Y,t,K,E,X,Z):\n",
    "#X concentration of upstream species\n",
    "#Z concentration of the downstream species\n",
    "    kS1,kP1,kcat1,kS2,kP2,kcat2=K[0],K[1],K[2],K[3],K[4],K[5] #Reversible Michaelis-Menten constants\n",
    "    E1,E2=E[0],E[1] #concentrations of enzymes\n",
    "     \n",
    "    #write reaction speeds and flux of y\n",
    "    v1=?## speed of reaction 1\n",
    "    v2=?## speed of reaction 2\n",
    "    dy=?## variation of intermediate y\n",
    "    \n",
    "    return dy"
   ]
  },
  {
   "cell_type": "code",
   "execution_count": 6,
   "metadata": {},
   "outputs": [
    {
     "data": {
      "text/plain": [
       "1.1666666666666665"
      ]
     },
     "metadata": {},
     "output_type": "display_data"
    }
   ],
   "source": [
    "#test the function dydt\n",
    "display(dydt(0,0,[1,1,1,1,1,1],[1,1],2,1))"
   ]
  },
  {
   "cell_type": "code",
   "execution_count": 7,
   "metadata": {},
   "outputs": [],
   "source": [
    "#simulates the pathway\n",
    "def reactions(K,E1,E2,X,Z,t):\n",
    "    \n",
    "    # ODE solver parameters\n",
    "    abserr = 1.0e-10\n",
    "    relerr = 1.0e-11\n",
    "    \n",
    "    #initialize\n",
    "    y0=1\n",
    "\n",
    "    # Call the ODE solver.\n",
    "    ct = odeint(dydt, y0, t, args=(K,[E1,E2],X,Z), atol=abserr, rtol=relerr)\n",
    "        \n",
    "    return ct"
   ]
  },
  {
   "cell_type": "code",
   "execution_count": 8,
   "metadata": {},
   "outputs": [],
   "source": [
    "# Create the time vector\n",
    "stoptime = 20\n",
    "numpoints = 1000\n",
    "t = [stoptime * float(i) / (numpoints - 1) for i in range(numpoints)]\n",
    "\n",
    "#parameters\n",
    "K=[1,1,1,1,1,1]#values of kplus1,kminus1,kcat1,kplus2,kminus2,kcat2\n",
    "X=2 #concentration of downstream metabolite, supposed constant\n",
    "Z=1 #concentration of downstream metabolite, supposed constant\n",
    "E1,E2=3,3 #concentration of enzymes 1 and 2\n",
    "\n",
    "#run the simulation\n",
    "Y=reactions(K,E1,E2,X,Z,t)\n"
   ]
  },
  {
   "cell_type": "code",
   "execution_count": 13,
   "metadata": {},
   "outputs": [],
   "source": [
    "#define a function which computes the fluxes\n",
    "def fluxes(X,Y,E1,E2):\n",
    "    f1=[]\n",
    "    f2=[]\n",
    "    for i in range(len(t)):\n",
    "        f1.append(?)## append flux of the reaction 1\n",
    "        f2.append(?)## append flux of the reaction 2\n",
    "    \n",
    "    return [f1,f2]"
   ]
  },
  {
   "cell_type": "code",
   "execution_count": 14,
   "metadata": {},
   "outputs": [],
   "source": [
    "##compute the fluxes\n",
    "[f1,f2]=?"
   ]
  },
  {
   "cell_type": "code",
   "execution_count": 15,
   "metadata": {},
   "outputs": [
    {
     "data": {
      "text/plain": [
       "<matplotlib.legend.Legend at 0x1962c519d30>"
      ]
     },
     "execution_count": 15,
     "metadata": {},
     "output_type": "execute_result"
    },
    {
     "data": {
      "image/png": "[encoded data removed]",
      "text/plain": [
       "<Figure size 432x288 with 1 Axes>"
      ]
     },
     "metadata": {
      "needs_background": "light"
     },
     "output_type": "display_data"
    },
    {
     "data": {
      "image/png": "[encoded data removed]",
      "text/plain": [
       "<Figure size 432x288 with 1 Axes>"
      ]
     },
     "metadata": {
      "needs_background": "light"
     },
     "output_type": "display_data"
    }
   ],
   "source": [
    "#display concentration of intermediate Y\n",
    "plt.figure()\n",
    "plt.plot(t,Y,'k', linewidth=3.0, label='Y')\n",
    "plt.xlabel('time')\n",
    "plt.ylabel('concentration')\n",
    "plt.legend(fontsize=15)\n",
    "\n",
    "#display fluxes\n",
    "plt.figure()\n",
    "plt.plot(t,f1,'b', linewidth=3.0, label='flux 1')\n",
    "plt.plot(t,f2,'r', linewidth=3.0, label='flux 2')\n",
    "plt.xlabel('time')\n",
    "plt.ylabel('fluxes')\n",
    "plt.legend(fontsize=15)\n"
   ]
  },
  {
   "cell_type": "code",
   "execution_count": 17,
   "metadata": {},
   "outputs": [
    {
     "data": {
      "text/plain": [
       "<matplotlib.legend.Legend at 0x1962c657430>"
      ]
     },
     "execution_count": 17,
     "metadata": {},
     "output_type": "execute_result"
    },
    {
     "data": {
      "image/png": "[encoded data removed]",
      "text/plain": [
       "<Figure size 432x288 with 1 Axes>"
      ]
     },
     "metadata": {
      "needs_background": "light"
     },
     "output_type": "display_data"
    },
    {
     "data": {
      "image/png": "[encoded data removed]",
      "text/plain": [
       "<Figure size 432x288 with 1 Axes>"
      ]
     },
     "metadata": {
      "needs_background": "light"
     },
     "output_type": "display_data"
    }
   ],
   "source": [
    "#examine Y and steady flux for increasing E1 and fixed E2\n",
    "E2=1\n",
    "listE1=np.linspace(0,20,11)\n",
    "listFlux=[]#record list of steady values of flux 2\n",
    "listY=[]#record list of steady values of Y concentration\n",
    "for E1 in listE1:\n",
    "    Y=?##compute Y concentration\n",
    "    [f1,f2]=?##compute fluxes\n",
    "    listFlux.append(?)##record final flux of reaction 2\n",
    "    listY.append(?)##record final concentration of Y\n",
    "    \n",
    "#display\n",
    "plt.figure()\n",
    "plt.plot(listE1,listY,'ok', linewidth=3.0, label='Y')\n",
    "plt.xlabel('E1')\n",
    "plt.ylabel('concentration')\n",
    "plt.legend(fontsize=15)\n",
    "\n",
    "plt.figure()\n",
    "plt.plot(listE1,listFlux,'k', linewidth=3.0, label='Y')\n",
    "plt.xlabel('E1')\n",
    "plt.ylabel('flux')\n",
    "plt.legend(fontsize=15)"
   ]
  },
  {
   "cell_type": "code",
   "execution_count": 19,
   "metadata": {},
   "outputs": [
    {
     "data": {
      "text/plain": [
       "<matplotlib.legend.Legend at 0x1962c627af0>"
      ]
     },
     "execution_count": 19,
     "metadata": {},
     "output_type": "execute_result"
    },
    {
     "data": {
      "image/png": "[encoded data removed]",
      "text/plain": [
       "<Figure size 432x288 with 1 Axes>"
      ]
     },
     "metadata": {
      "needs_background": "light"
     },
     "output_type": "display_data"
    },
    {
     "data": {
      "image/png": "[encoded data removed]",
      "text/plain": [
       "<Figure size 432x288 with 1 Axes>"
      ]
     },
     "metadata": {
      "needs_background": "light"
     },
     "output_type": "display_data"
    }
   ],
   "source": [
    "##examine Y and steady flux for fixed E1 and increasing E2\n"
   ]
  },
  {
   "cell_type": "code",
   "execution_count": null,
   "metadata": {},
   "outputs": [],
   "source": []
  }
 ],
 "metadata": {
  "kernelspec": {
   "display_name": "Python 3",
   "language": "python",
   "name": "python3"
  },
  "language_info": {
   "codemirror_mode": {
    "name": "ipython",
    "version": 3
   },
   "file_extension": ".py",
   "mimetype": "text/x-python",
   "name": "python",
   "nbconvert_exporter": "python",
   "pygments_lexer": "ipython3",
   "version": "3.8.5"
  }
 },
 "nbformat": 4,
 "nbformat_minor": 4
}
